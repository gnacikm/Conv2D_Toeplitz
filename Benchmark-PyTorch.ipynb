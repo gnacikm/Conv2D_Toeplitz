{
 "cells": [
  {
   "cell_type": "markdown",
   "metadata": {},
   "source": [
    "# Importing libraries"
   ]
  },
  {
   "cell_type": "code",
   "execution_count": 1,
   "metadata": {},
   "outputs": [],
   "source": [
    "import timeit\n",
    "import numpy as np\n",
    "import matplotlib.pyplot as plt\n",
    "from tqdm import tqdm\n",
    "import torch"
   ]
  },
  {
   "cell_type": "markdown",
   "metadata": {},
   "source": [
    "# Checking if GPU is detected for Torch"
   ]
  },
  {
   "cell_type": "code",
   "execution_count": 2,
   "metadata": {},
   "outputs": [
    {
     "name": "stdout",
     "output_type": "stream",
     "text": [
      "True\n",
      "0\n",
      "<torch.cuda.device object at 0x7f07aee3d220>\n",
      "NVIDIA GeForce RTX 3070 Laptop GPU\n"
     ]
    }
   ],
   "source": [
    "print(torch.cuda.is_available())\n",
    "print(torch.cuda.current_device())\n",
    "print(torch.cuda.device(0))\n",
    "print(torch.cuda.get_device_name(0))"
   ]
  },
  {
   "cell_type": "markdown",
   "metadata": {},
   "source": [
    "### The Toeplitz algorithm written in Torch using Torch matmul"
   ]
  },
  {
   "cell_type": "code",
   "execution_count": 3,
   "metadata": {},
   "outputs": [],
   "source": [
    "def MyConvToepTorch(X, K):\n",
    "    \"\"\"\n",
    "    Intput:\n",
    "    X - torch.Tensor, image\n",
    "    K - torch.Tensor, kernel\n",
    "    Output:\n",
    "    2D convolution of X and K; type torch.Tensor\n",
    "    \"\"\"\n",
    "    _, _, p, q = K.shape\n",
    "    _, _, m, n = X.shape\n",
    "    reshapedX = X.reshape(-1)\n",
    "    indx = torch.arange(0, (m-p+1)*n, n).reshape(-1,1) + torch.arange(0,n*p)\n",
    "    B = reshapedX[indx]\n",
    "    col = torch.nn.functional.pad(K, (0,n-q), mode=\"constant\")\n",
    "    col = col.reshape((-1,))\n",
    "    row = torch.zeros(n-q+1)\n",
    "    row[0] = ker[0,0,0,0]\n",
    "    vals = torch.cat((col, row[1:]))\n",
    "    index = torch.arange(0, n-q+1) + torch.unsqueeze(torch.arange(col.shape[0]-1, -1, -1), 1)\n",
    "    index = torch.flip(index, dims=[0])\n",
    "    A = vals[index]\n",
    "    return torch.matmul(B, A)"
   ]
  },
  {
   "cell_type": "markdown",
   "metadata": {},
   "source": [
    "## The algorithm written with Torch with FFT"
   ]
  },
  {
   "cell_type": "code",
   "execution_count": 4,
   "metadata": {},
   "outputs": [],
   "source": [
    "m, n = 5, 5\n",
    "p, q = 3, 3\n",
    "X = np.random.normal(size=(m, n))\n",
    "K = np.random.normal(size=(p, q))\n",
    "im = X.reshape(1, 1, m, n)\n",
    "ker = K.reshape(1, 1, p, q)\n",
    "im = torch.tensor(im)\n",
    "ker = torch.tensor(ker)"
   ]
  },
  {
   "cell_type": "code",
   "execution_count": 5,
   "metadata": {},
   "outputs": [],
   "source": [
    "def power_of_two(shape):\n",
    "    if (shape & (shape-1) == 0) and shape != 0:\n",
    "        return 0\n",
    "    power = np.int(np.ceil(np.log2(shape)))\n",
    "    diff = 2**power - shape\n",
    "    return diff\n",
    "    \n",
    "    "
   ]
  },
  {
   "cell_type": "code",
   "execution_count": 6,
   "metadata": {},
   "outputs": [],
   "source": [
    "def matmult_toeplitz_torch(row, col, v):\n",
    "    v_row, v_col = v.shape\n",
    "    mm, nn = row.shape[0], col.shape[0]\n",
    "    M = nn + mm - 1\n",
    "    ind_c = torch.arange(M-1, -1,-1) \n",
    "    vals = torch.cat((row[1:], col))\n",
    "    c = vals[ind_c]\n",
    "    hatv = torch.nn.functional.pad(v, (0,0,0,M-v_row), mode=\"constant\") # padding v with zeros\n",
    "    FFTv = torch.fft.fft(hatv, axis=0)\n",
    "    FFTv = torch.transpose(FFTv, 0, 1)\n",
    "    #FFTv = torch.nn.functional.pad(FFTv, (0,M-v_row), mode=\"constant\") \n",
    "    Lambda = torch.fft.fft(c)\n",
    "    LamFv = torch.multiply(FFTv, Lambda)\n",
    "    result = torch.fft.ifft(LamFv, axis=1)\n",
    "    return torch.real(result[:,nn-1:])"
   ]
  },
  {
   "cell_type": "code",
   "execution_count": 7,
   "metadata": {},
   "outputs": [],
   "source": [
    "def matmult_toeplitz_torch_pow(row, col, v):\n",
    "    v_row, v_col = v.shape\n",
    "    mm, nn = row.shape[0], col.shape[0]\n",
    "    M = nn + mm - 1\n",
    "    ind_c = torch.arange(M-1, -1,-1) \n",
    "    vals = torch.cat((row[1:], col))\n",
    "    old_c = vals[ind_c]\n",
    "    C = power_of_two(old_c.shape[0])\n",
    "    c = torch.nn.functional.pad(vals[ind_c], (0,C), mode=\"constant\") \n",
    "    hatv = torch.nn.functional.pad(v, (0,0,0,M-v_row+C), mode=\"constant\") # padding v with zeros\n",
    "    FFTv = torch.fft.fft(hatv, axis=0)\n",
    "    FFTv = torch.transpose(FFTv, 0, 1)\n",
    "    #FFTv = torch.nn.functional.pad(FFTv, (0,M-v_row), mode=\"constant\") \n",
    "    Lambda = torch.fft.fft(c)\n",
    "    LamFv = torch.multiply(FFTv, Lambda)\n",
    "    result = torch.fft.ifft(LamFv, axis=1)\n",
    "    return torch.real(result[:,nn-1:-C])"
   ]
  },
  {
   "cell_type": "code",
   "execution_count": 8,
   "metadata": {},
   "outputs": [],
   "source": [
    "def MyConvToepTorchFFT(X, K):\n",
    "    \"\"\"\n",
    "    Intput:\n",
    "    X - torch.Tensor, image\n",
    "    K - torch.Tensor, kernel\n",
    "    Output:\n",
    "    2D convolution of X and K; type torch.Tensor\n",
    "    \"\"\"\n",
    "    _, _, p, q = K.shape\n",
    "    _, _, m, n = X.shape\n",
    "    reshapedX = X.reshape(-1)\n",
    "    indx = torch.arange(0, (m-p+1)*n, n).reshape(-1,1) + torch.arange(0,n*p)\n",
    "    B = torch.transpose(reshapedX[indx], 0, 1)\n",
    "    col = torch.nn.functional.pad(K, (0,n-q), mode=\"constant\")\n",
    "    col = col.reshape((-1,))\n",
    "    row = torch.zeros(n-q+1)\n",
    "    row[0] = ker[0,0,0,0]\n",
    "    return matmult_toeplitz_torch(row, col, B)"
   ]
  },
  {
   "cell_type": "code",
   "execution_count": 9,
   "metadata": {},
   "outputs": [],
   "source": [
    "def MyConvToepTorchFFTpow(X, K):\n",
    "    \"\"\"\n",
    "    Intput:\n",
    "    X - torch.Tensor, image\n",
    "    K - torch.Tensor, kernel\n",
    "    Output:\n",
    "    2D convolution of X and K; type torch.Tensor\n",
    "    \"\"\"\n",
    "    _, _, p, q = K.shape\n",
    "    _, _, m, n = X.shape\n",
    "    reshapedX = X.reshape(-1)\n",
    "    indx = torch.arange(0, (m-p+1)*n, n).reshape(-1,1) + torch.arange(0,n*p)\n",
    "    B = torch.transpose(reshapedX[indx], 0, 1)\n",
    "    col = torch.nn.functional.pad(K, (0,n-q), mode=\"constant\")\n",
    "    col = col.reshape((-1,))\n",
    "    row = torch.zeros(n-q+1)\n",
    "    row[0] = ker[0,0,0,0]\n",
    "    return matmult_toeplitz_torch_pow(row, col, B)"
   ]
  },
  {
   "cell_type": "markdown",
   "metadata": {},
   "source": [
    "## Pytorch 2D Conv"
   ]
  },
  {
   "cell_type": "code",
   "execution_count": 10,
   "metadata": {},
   "outputs": [],
   "source": [
    "def torchconv(x, y):\n",
    "    \"\"\"\n",
    "    Intput:\n",
    "    X - torch.Tensor, image\n",
    "    K - torch.Tensor, kernel\n",
    "    Output:\n",
    "    2D convolution of X and K; type torch.Tensor\n",
    "    \"\"\"\n",
    "    return torch.nn.functional.conv2d(x, y, padding='valid')"
   ]
  },
  {
   "cell_type": "markdown",
   "metadata": {},
   "source": [
    "## Testing Outputs"
   ]
  },
  {
   "cell_type": "code",
   "execution_count": 11,
   "metadata": {},
   "outputs": [],
   "source": [
    "m, n = 7, 7\n",
    "p, q = 3, 3\n",
    "X = np.random.normal(size=(m, n))\n",
    "K = np.random.normal(size=(p, q))"
   ]
  },
  {
   "cell_type": "code",
   "execution_count": 12,
   "metadata": {},
   "outputs": [
    {
     "data": {
      "text/plain": [
       "tensor([[[[ 1.6108,  2.0071, -1.7883, -1.1185, -2.3272],\n",
       "          [-1.4261,  1.3871,  0.7290, -2.0031, -0.2715],\n",
       "          [-0.8562,  0.0827,  2.8352, -0.7330, -0.1146],\n",
       "          [ 2.3582,  2.5729, -2.2971, -0.2491,  0.5446],\n",
       "          [-0.2278,  0.2702, -0.4288, -1.5445, -1.1606]]]],\n",
       "       dtype=torch.float64)"
      ]
     },
     "execution_count": 12,
     "metadata": {},
     "output_type": "execute_result"
    }
   ],
   "source": [
    "im = X.reshape(1, 1, m, n)\n",
    "ker = K.reshape(1, 1, p, q)\n",
    "im = torch.tensor(im)\n",
    "ker = torch.tensor(ker)\n",
    "torchconv(im, ker)"
   ]
  },
  {
   "cell_type": "code",
   "execution_count": 13,
   "metadata": {},
   "outputs": [
    {
     "data": {
      "text/plain": [
       "tensor([[ 1.6108, -2.2662, -1.3558,  0.1773,  1.1582],\n",
       "        [-1.4261,  0.6708,  0.9173, -3.1703, -2.2187],\n",
       "        [-0.8562,  0.3243,  0.3929,  0.4709, -1.1729],\n",
       "        [ 2.3582,  0.4037,  0.1045, -1.1049, -0.5311],\n",
       "        [-0.2278,  0.6840,  0.4750,  0.3746, -0.6031]], dtype=torch.float64)"
      ]
     },
     "execution_count": 13,
     "metadata": {},
     "output_type": "execute_result"
    }
   ],
   "source": [
    "im = X.reshape(1, 1, m, n)\n",
    "ker = K.reshape(1, 1, p, q)\n",
    "im = torch.tensor(im)\n",
    "ker = torch.tensor(ker)\n",
    "MyConvToepTorch(im, ker)"
   ]
  },
  {
   "cell_type": "code",
   "execution_count": 14,
   "metadata": {},
   "outputs": [
    {
     "data": {
      "text/plain": [
       "tensor([[ 1.6108,  2.0071, -1.7883, -1.1185, -2.3272],\n",
       "        [-1.4261,  1.3871,  0.7290, -2.0031, -0.2715],\n",
       "        [-0.8562,  0.0827,  2.8352, -0.7330, -0.1146],\n",
       "        [ 2.3582,  2.5729, -2.2971, -0.2491,  0.5446],\n",
       "        [-0.2278,  0.2702, -0.4288, -1.5445, -1.1606]], dtype=torch.float64)"
      ]
     },
     "execution_count": 14,
     "metadata": {},
     "output_type": "execute_result"
    }
   ],
   "source": [
    "im = X.reshape(1, 1, m, n)\n",
    "ker = K.reshape(1, 1, p, q)\n",
    "im = torch.tensor(im)\n",
    "ker = torch.tensor(ker)\n",
    "MyConvToepTorchFFT(im, ker)"
   ]
  },
  {
   "cell_type": "code",
   "execution_count": 15,
   "metadata": {},
   "outputs": [
    {
     "data": {
      "text/plain": [
       "tensor([[ 1.6108,  2.0071, -1.7883, -1.1185, -2.3272],\n",
       "        [-1.4261,  1.3871,  0.7290, -2.0031, -0.2715],\n",
       "        [-0.8562,  0.0827,  2.8352, -0.7330, -0.1146],\n",
       "        [ 2.3582,  2.5729, -2.2971, -0.2491,  0.5446],\n",
       "        [-0.2278,  0.2702, -0.4288, -1.5445, -1.1606]], dtype=torch.float64)"
      ]
     },
     "execution_count": 15,
     "metadata": {},
     "output_type": "execute_result"
    }
   ],
   "source": [
    "im = X.reshape(1, 1, m, n)\n",
    "ker = K.reshape(1, 1, p, q)\n",
    "im = torch.tensor(im)\n",
    "ker = torch.tensor(ker)\n",
    "MyConvToepTorchFFTpow(im, ker)"
   ]
  },
  {
   "cell_type": "markdown",
   "metadata": {},
   "source": [
    "## Generating random images"
   ]
  },
  {
   "cell_type": "code",
   "execution_count": 16,
   "metadata": {
    "id": "FSckFsg6Evrr"
   },
   "outputs": [],
   "source": [
    "image_size = 100 # image size, square image, \n",
    "kernel_size = 20 # kernel size\n",
    "iterations = 500 # number of images\n",
    "images = np.random.normal(size=(iterations, image_size, image_size))\n",
    "kernels = np.random.normal(size=(iterations, kernel_size, kernel_size))\n",
    "set_of_images = [(x, y) for x, y in zip(images, kernels)]\n",
    "set_of_images_torch = [\n",
    "     (torch.tensor(x.reshape(1, 1, image_size, image_size)), torch.tensor(y.reshape(1, 1, kernel_size, kernel_size))) for x, y in set_of_images]"
   ]
  },
  {
   "cell_type": "markdown",
   "metadata": {},
   "source": [
    "# Benchmark - measuring comp. times"
   ]
  },
  {
   "cell_type": "markdown",
   "metadata": {},
   "source": [
    "### PyTorch"
   ]
  },
  {
   "cell_type": "code",
   "execution_count": 17,
   "metadata": {},
   "outputs": [
    {
     "name": "stdout",
     "output_type": "stream",
     "text": [
      "The time difference is : 0.20973254198906943\n"
     ]
    }
   ],
   "source": [
    "starttime = timeit.default_timer()\n",
    "for x in set_of_images_torch: \n",
    "    torchconv(*x)\n",
    "print(\"The time difference is :\", timeit.default_timer() - starttime)"
   ]
  },
  {
   "cell_type": "markdown",
   "metadata": {},
   "source": [
    "### My Conv in Pytorch"
   ]
  },
  {
   "cell_type": "code",
   "execution_count": 18,
   "metadata": {},
   "outputs": [
    {
     "name": "stdout",
     "output_type": "stream",
     "text": [
      "The time difference is : 0.2688714739633724\n"
     ]
    }
   ],
   "source": [
    "starttime = timeit.default_timer()\n",
    "for x in set_of_images_torch: \n",
    "    MyConvToepTorch(*x)\n",
    "print(\"The time difference is :\", timeit.default_timer() - starttime)"
   ]
  },
  {
   "cell_type": "markdown",
   "metadata": {},
   "source": [
    "### My Conv in Pytorch FFT"
   ]
  },
  {
   "cell_type": "code",
   "execution_count": 19,
   "metadata": {},
   "outputs": [
    {
     "name": "stdout",
     "output_type": "stream",
     "text": [
      "The time difference is : 0.41088359197601676\n"
     ]
    }
   ],
   "source": [
    "starttime = timeit.default_timer()\n",
    "for x in set_of_images_torch: \n",
    "    MyConvToepTorchFFT(*x)\n",
    "print(\"The time difference is :\", timeit.default_timer() - starttime)"
   ]
  },
  {
   "cell_type": "code",
   "execution_count": 20,
   "metadata": {},
   "outputs": [
    {
     "name": "stdout",
     "output_type": "stream",
     "text": [
      "The time difference is : 0.6078989210072905\n"
     ]
    }
   ],
   "source": [
    "starttime = timeit.default_timer()\n",
    "for x in set_of_images_torch: \n",
    "    MyConvToepTorchFFTpow(*x)\n",
    "print(\"The time difference is :\", timeit.default_timer() - starttime)"
   ]
  },
  {
   "cell_type": "markdown",
   "metadata": {},
   "source": [
    "## Long benchmark"
   ]
  },
  {
   "cell_type": "code",
   "execution_count": 21,
   "metadata": {},
   "outputs": [],
   "source": [
    "def generate_times(\n",
    "    convfun,\n",
    "    tensorflow_cond=False,\n",
    "    cupy_cond=False,\n",
    "    torch_cond=False,\n",
    "    trials=10):\n",
    "    image_size = 100\n",
    "    iter_size = 100\n",
    "    time_overall = []\n",
    "    for kernel_size in tqdm(range(1, image_size), desc=\"Kernel size\"):\n",
    "        images = np.random.uniform(0, 1, size=(trials, iter_size, image_size, image_size))\n",
    "        kernels = np.random.normal(size=(trials, iter_size, kernel_size, kernel_size))\n",
    "        for j in range(trials):\n",
    "            time_diff_result = []\n",
    "            set_of_images = []\n",
    "            for k in range(iter_size):\n",
    "                X = images[j][k]\n",
    "                K = kernels[j][k]\n",
    "                X = torch.tensor(X.reshape(1, 1, image_size, image_size))\n",
    "                K = torch.tensor(K.reshape(1, 1, kernel_size, kernel_size))\n",
    "                set_of_images.append([X, K])\n",
    "            starttime = timeit.default_timer()\n",
    "            for x in set_of_images: \n",
    "                convfun(*x)\n",
    "            time_diff =  timeit.default_timer() - starttime\n",
    "            time_diff_result.append(time_diff)\n",
    "        time_overall.append(time_diff_result)\n",
    "    return np.array(time_overall).mean(axis=1)"
   ]
  },
  {
   "cell_type": "code",
   "execution_count": 22,
   "metadata": {},
   "outputs": [
    {
     "name": "stderr",
     "output_type": "stream",
     "text": [
      "Kernel size: 100%|██████████████████████████████| 99/99 [04:39<00:00,  2.83s/it]\n"
     ]
    }
   ],
   "source": [
    "time_conv_torch = generate_times(torchconv, torch_cond=True)"
   ]
  },
  {
   "cell_type": "code",
   "execution_count": 23,
   "metadata": {},
   "outputs": [
    {
     "name": "stderr",
     "output_type": "stream",
     "text": [
      "Kernel size: 100%|██████████████████████████████| 99/99 [01:04<00:00,  1.54it/s]\n"
     ]
    }
   ],
   "source": [
    "time_conv_toep_torch = generate_times(MyConvToepTorch, torch_cond=True)"
   ]
  },
  {
   "cell_type": "code",
   "execution_count": 25,
   "metadata": {},
   "outputs": [
    {
     "data": {
      "image/png": "[encoded data removed]",
      "text/plain": [
       "<Figure size 1080x720 with 1 Axes>"
      ]
     },
     "metadata": {
      "needs_background": "light"
     },
     "output_type": "display_data"
    }
   ],
   "source": [
    "fig = plt.figure(figsize=(15, 10))\n",
    "plt.plot(time_conv_torch, label=\"torch.nn.functional.conv2d (GPU support)\")\n",
    "plt.plot(time_conv_toep_torch , label=\"Toeplitz multiplication algorithm in torch (GPU support)\")\n",
    "plt.plot()\n",
    "plt.legend(loc=\"upper right\", fontsize=15)\n",
    "plt.xlabel(\"Kernel size\", fontsize=20)\n",
    "plt.ylabel(\"Time\", fontsize=20)\n",
    "fig.savefig(\"conv2d_torch.jpg\")\n",
    "plt.show()"
   ]
  },
  {
   "cell_type": "code",
   "execution_count": 26,
   "metadata": {},
   "outputs": [],
   "source": [
    "x = np.arange(10, 100, 5)"
   ]
  },
  {
   "cell_type": "code",
   "execution_count": 28,
   "metadata": {},
   "outputs": [],
   "source": [
    "y1 = time_conv_torch[x]\n",
    "y2 = time_conv_toep_torch[x]"
   ]
  },
  {
   "cell_type": "code",
   "execution_count": 30,
   "metadata": {},
   "outputs": [
    {
     "data": {
      "image/png": "[encoded data removed]",
      "text/plain": [
       "<Figure size 1080x720 with 1 Axes>"
      ]
     },
     "metadata": {
      "needs_background": "light"
     },
     "output_type": "display_data"
    }
   ],
   "source": [
    "fig = plt.figure(figsize=(15, 10))\n",
    "plt.bar(x, y1, color=\"green\", label=\"torch.nn.functional.conv2d\")\n",
    "plt.bar(x-1, y2, color=\"orange\", label=\"Toeplitz  algorithm in torch\")\n",
    "plt.legend(loc=\"upper right\", fontsize=15)\n",
    "plt.xlabel(\"Kernel size\", fontsize=20)\n",
    "plt.xticks(x, fontsize=20)\n",
    "plt.ylabel(\"Time (in sec)\", fontsize=20)\n",
    "plt.yticks(fontsize=20)\n",
    "fig.savefig(\"conv2d_torch.jpg\")\n",
    "plt.show()"
   ]
  },
  {
   "cell_type": "code",
   "execution_count": null,
   "metadata": {},
   "outputs": [],
   "source": []
  }
 ],
 "metadata": {
  "colab": {
   "collapsed_sections": [],
   "name": "conv.ipynb",
   "provenance": []
  },
  "kernelspec": {
   "display_name": "vowel-rec",
   "language": "python",
   "name": "vowel-rec"
  },
  "language_info": {
   "codemirror_mode": {
    "name": "ipython",
    "version": 3
   },
   "file_extension": ".py",
   "mimetype": "text/x-python",
   "name": "python",
   "nbconvert_exporter": "python",
   "pygments_lexer": "ipython3",
   "version": "3.8.10"
  }
 },
 "nbformat": 4,
 "nbformat_minor": 4
}
